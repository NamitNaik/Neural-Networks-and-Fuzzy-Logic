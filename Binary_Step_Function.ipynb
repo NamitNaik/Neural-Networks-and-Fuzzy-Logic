{
  "nbformat": 4,
  "nbformat_minor": 0,
  "metadata": {
    "colab": {
      "name": "Binary Step Function.ipynb",
      "provenance": [],
      "collapsed_sections": [],
      "include_colab_link": true
    },
    "kernelspec": {
      "name": "python3",
      "display_name": "Python 3"
    }
  },
  "cells": [
    {
      "cell_type": "markdown",
      "metadata": {
        "id": "view-in-github",
        "colab_type": "text"
      },
      "source": [
        "<a href=\"https://colab.research.google.com/github/NamitNaik/Neural-Networks-and-Fuzzy-Logic/blob/master/Binary_Step_Function.ipynb\" target=\"_parent\"><img src=\"https://colab.research.google.com/assets/colab-badge.svg\" alt=\"Open In Colab\"/></a>"
      ]
    },
    {
      "cell_type": "code",
      "metadata": {
        "id": "5pPfkkuyL0wa",
        "colab": {
          "base_uri": "https://localhost:8080/",
          "height": 295
        },
        "outputId": "1a4c8e97-e85e-46d1-c4e1-121c62cf5dfd"
      },
      "source": [
        "import numpy as np\n",
        "\n",
        "import matplotlib.pyplot as plt\n",
        "\n",
        "def binstep_fn(i):\n",
        "  if i>=0:\n",
        "    return 1\n",
        "  else:\n",
        "    return 0        \n",
        "  \n",
        "    \n",
        "x=np.linspace(-50,50,200)\n",
        "y1=list()\n",
        "\n",
        "for i in x:\n",
        "    y=binstep_fn(i)\n",
        "    y1.append(y)\n",
        "\n",
        "\n",
        "plt.plot(x,y1,'b')\n",
        "plt.xlabel(\"Net Input\")\n",
        "plt.ylabel(\"Output\")\n",
        "plt.title(\"Binary Step Function\")\n",
        "plt.text(40,1,r\"Binary Step Function: $f(x)=1, forx>=0, f(x)=0, forx<0$\")\n",
        "plt.grid()\n"
      ],
      "execution_count": null,
      "outputs": [
        {
          "output_type": "display_data",
          "data": {
            "image/png": "[encoded data removed]",
            "text/plain": [
              "<Figure size 432x288 with 1 Axes>"
            ]
          },
          "metadata": {
            "tags": [],
            "needs_background": "light"
          }
        }
      ]
    }
  ]
}