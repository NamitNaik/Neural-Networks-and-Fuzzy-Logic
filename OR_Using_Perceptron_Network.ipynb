{
  "nbformat": 4,
  "nbformat_minor": 0,
  "metadata": {
    "colab": {
      "name": "OR Using Perceptron Network.ipynb",
      "provenance": [],
      "collapsed_sections": [],
      "include_colab_link": true
    },
    "kernelspec": {
      "name": "python3",
      "display_name": "Python 3"
    }
  },
  "cells": [
    {
      "cell_type": "markdown",
      "metadata": {
        "id": "view-in-github",
        "colab_type": "text"
      },
      "source": [
        "<a href=\"https://colab.research.google.com/github/NamitNaik/Neural-Networks-and-Fuzzy-Logic/blob/master/OR_Using_Perceptron_Network.ipynb\" target=\"_parent\"><img src=\"https://colab.research.google.com/assets/colab-badge.svg\" alt=\"Open In Colab\"/></a>"
      ]
    },
    {
      "cell_type": "code",
      "metadata": {
        "id": "sFuoEreVZ3R7",
        "colab": {
          "base_uri": "https://localhost:8080/",
          "height": 109
        },
        "outputId": "f418a3d4-5272-4b74-bf80-1185a3f4a678"
      },
      "source": [
        "import numpy as np\n",
        "x1=[1,1,0,0]\n",
        "x2=[1,0,1,0]\n",
        "t=[1,1,1,-1]\n",
        "y=[0,0,0,0]\n",
        "T=0\n",
        "alpha=1\n",
        "b=0\n",
        "w1=0\n",
        "w2=0\n",
        "c=0\n",
        "yin=[0,0,0,0]\n",
        "epoch=0\n",
        "\n",
        "while(c==0):\n",
        "  for i in range(0,4):\n",
        "    yin[i]=b+x1[i]*w1+x2[i]*w2\n",
        "    if yin[i]>0:\n",
        "      y[i]=1\n",
        "    elif yin[i]==0:\n",
        "      y[i]=0\n",
        "    else:\n",
        "      y[i]=-1\n",
        "    if (y[i]!=t[i]):\n",
        "      w1=w1+alpha*t[i]*x1[i]\n",
        "      w2=w2+alpha*t[i]*x2[i]\n",
        "      b=b+alpha*t[i]\n",
        "  epoch=epoch+1\n",
        "\n",
        "  if(np.array_equal(y,t)):\n",
        "    print(\"MODEL HAS CONVERGED\")\n",
        "    c=1\n",
        "\n",
        "print(\"NO. OF EPOCHS:\",epoch)\n",
        "print(\"W1 FINAL:\",w1)\n",
        "print(\"W2 FINAL:\",w2)\n",
        "print(\"B FINAL:\",b)"
      ],
      "execution_count": null,
      "outputs": [
        {
          "output_type": "stream",
          "text": [
            "MODEL HAS CONVERGED\n",
            "NO. OF EPOCHS: 5\n",
            "W1 FINAL: 2\n",
            "W2 FINAL: 2\n",
            "B FINAL: -1\n"
          ],
          "name": "stdout"
        }
      ]
    }
  ]
}