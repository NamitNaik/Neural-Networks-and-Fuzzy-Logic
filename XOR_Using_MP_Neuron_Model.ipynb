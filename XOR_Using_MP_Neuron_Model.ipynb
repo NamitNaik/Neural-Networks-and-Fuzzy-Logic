{
  "nbformat": 4,
  "nbformat_minor": 0,
  "metadata": {
    "colab": {
      "name": "XOR Using MP Neuron Model.ipynb",
      "provenance": [],
      "collapsed_sections": [],
      "include_colab_link": true
    },
    "kernelspec": {
      "name": "python3",
      "display_name": "Python 3"
    }
  },
  "cells": [
    {
      "cell_type": "markdown",
      "metadata": {
        "id": "view-in-github",
        "colab_type": "text"
      },
      "source": [
        "<a href=\"https://colab.research.google.com/github/NamitNaik/Neural-Networks-and-Fuzzy-Logic/blob/master/XOR_Using_MP_Neuron_Model.ipynb\" target=\"_parent\"><img src=\"https://colab.research.google.com/assets/colab-badge.svg\" alt=\"Open In Colab\"/></a>"
      ]
    },
    {
      "cell_type": "code",
      "metadata": {
        "id": "3essmx9hcnGZ",
        "colab": {
          "base_uri": "https://localhost:8080/",
          "height": 338
        },
        "outputId": "1952b182-d278-47f7-eefb-39228bf3e9eb"
      },
      "source": [
        "#XOR Operation Using MP Neuron Model\n",
        "import numpy as np\n",
        "\n",
        "x1=np.array([0,0,1,1])\n",
        "x2=np.array([0,1,0,1])\n",
        "t=[0,1,1,0]\n",
        "\n",
        "w11=float(input(\"Enter W11 Weight Value:\"))\n",
        "w21=float(input(\"Enter W21 Weight Value:\"))\n",
        "w12=float(input(\"Enter W12 Weight Value:\"))\n",
        "w22=float(input(\"Enter W22 Weight Value:\"))\n",
        "\n",
        "T1=float(input(\"Enter Threshold Value1:\"))\n",
        "T2=float(input(\"Enter Threshold Value2:\"))\n",
        "T3=float(input(\"Enter Threshold Value3:\"))\n",
        "\n",
        "v1=float(input(\"Enter V1 Weight Value:\"))\n",
        "v2=float(input(\"Enter V2 Weight Value:\"))\n",
        "\n",
        "\n",
        "zin1 = (w11*x1) + (w21*x2) \n",
        "print(\"Zin1:\",zin1)\n",
        "\n",
        "z1=np.array([0,0,0,0])\n",
        "for i in range(4):\n",
        "  if zin1[i]>=T1:\n",
        "    z1[i]=1\n",
        "  else:\n",
        "    z1[i]=0  \n",
        "\n",
        "zin2 = (w12*x1) + (w22*x2) \n",
        "print(\"Zin2:\",zin2) \n",
        "\n",
        "z2=np.array([0,0,0,0])\n",
        "for i in range(4):\n",
        "  if zin2[i]>=T2:\n",
        "    z2[i]=1\n",
        "  else:\n",
        "    z2[i]=0  \n",
        "\n",
        "yin = (v1*z1) + (v2*z2) \n",
        "print(\"Yin:\",yin) \n",
        "\n",
        "y=np.array([0,0,0,0])\n",
        "for i in range(4):\n",
        "  if yin[i]>=T3:\n",
        "    y[i]=1\n",
        "  else:\n",
        "    y[i]=0  \n",
        "\n",
        "print(\"\")\n",
        "print(\"Target O/P\",t)   \n",
        "print(\"Calculated O/P\",y)   \n",
        "print(\"\")\n",
        "if np.array_equal(y,t):\n",
        "  print(\"Correct Weight And Threshold Values\")\n",
        "else:\n",
        "  print(\"Incorrect Weights, Re-run Code\")  "
      ],
      "execution_count": null,
      "outputs": [
        {
          "output_type": "stream",
          "text": [
            "Enter W11 Weight Value:1\n",
            "Enter W21 Weight Value:1\n",
            "Enter W12 Weight Value:1\n",
            "Enter W22 Weight Value:1\n",
            "Enter Threshold Value1:1\n",
            "Enter Threshold Value2:1\n",
            "Enter Threshold Value3:1\n",
            "Enter V1 Weight Value:1\n",
            "Enter V2 Weight Value:1\n",
            "Zin1: [0. 1. 1. 2.]\n",
            "Zin2: [0. 1. 1. 2.]\n",
            "Yin: [0. 2. 2. 2.]\n",
            "\n",
            "Target O/P [0, 1, 1, 0]\n",
            "Calculated O/P [0 1 1 1]\n",
            "\n",
            "Incorrect Weights, Re-run Code\n"
          ],
          "name": "stdout"
        }
      ]
    }
  ]
}